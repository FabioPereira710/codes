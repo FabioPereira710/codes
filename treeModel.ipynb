{
 "cells": [
  {
   "cell_type": "code",
   "execution_count": null,
   "metadata": {},
   "outputs": [],
   "source": [
    "\n",
    "import pandas as pd\n",
    "from sklearn import tree\n",
    "import numpy as np\n",
    "\n",
    "\n",
    "df = pd.read_csv('/Users/fabio.pereira/Downloads/james.csv')\n",
    "\n",
    "len(df)"
   ]
  },
  {
   "cell_type": "code",
   "execution_count": null,
   "metadata": {},
   "outputs": [],
   "source": [
    "featureNames = list(df.iloc[:, :-1].columns)\n",
    "features = np.array(df.iloc[:, :-1])\n",
    "labels   = np.array(df.iloc[:, -1])\n",
    "treeModel = tree.DecisionTreeClassifier(criterion = 'gini', \n",
    "                                        min_samples_leaf = 50,\n",
    "                                        max_depth = 8,\n",
    "                                        max_leaf_nodes = 15\n",
    "                                       )\n",
    "\n",
    "treeModel.fit(features, labels)"
   ]
  },
  {
   "cell_type": "code",
   "execution_count": null,
   "metadata": {},
   "outputs": [],
   "source": [
    "from io import StringIO\n",
    "from sklearn.tree import export_graphviz\n",
    "import pydotplus\n",
    "from IPython.display import Image  \n",
    "\n",
    "# Visualizing the obtained Tree\n",
    "dot_data = StringIO()\n",
    "export_graphviz(treeModel, out_file = dot_data, filled = True, rounded = True, special_characters = True,\n",
    "                feature_names = featureNames, class_names = ['0','1'])\n",
    "\n",
    "graph = pydotplus.graph_from_dot_data(dot_data.getvalue())  \n",
    "Image(graph.create_png())"
   ]
  }
 ],
 "metadata": {
  "kernelspec": {
   "display_name": "Python 3",
   "language": "python",
   "name": "python3"
  },
  "language_info": {
   "codemirror_mode": {
    "name": "ipython",
    "version": 3
   },
   "file_extension": ".py",
   "mimetype": "text/x-python",
   "name": "python",
   "nbconvert_exporter": "python",
   "pygments_lexer": "ipython3",
   "version": "3.8.1"
  }
 },
 "nbformat": 4,
 "nbformat_minor": 4
}
